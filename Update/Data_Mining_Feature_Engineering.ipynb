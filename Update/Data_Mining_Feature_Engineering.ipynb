{
  "nbformat": 4,
  "nbformat_minor": 0,
  "metadata": {
    "colab": {
      "name": "Data_Mining_特征工程_v2.ipynb",
      "provenance": [],
      "collapsed_sections": []
    },
    "kernelspec": {
      "name": "python3",
      "display_name": "Python 3"
    },
    "language_info": {
      "name": "python"
    }
  },
  "cells": [
    {
      "cell_type": "code",
      "metadata": {
        "id": "0UAxGb4LFsOQ",
        "colab": {
          "base_uri": "https://localhost:8080/"
        },
        "outputId": "e6510261-fb8e-48c7-a855-069ccc4e261f"
      },
      "source": [
        "# 使用的是Kaggele上的数据，能够直接导入\n",
        "# 直接运行这段代码就可以了\n",
        "\n",
        "!pip install kaggle\n",
        "import json\n",
        "token = {\"username\":\"awc789\",\"key\":\"454f1e97dae3d3abc28488f3d31cf09e\"}\n",
        "with open('/content/kaggle.json', 'w') as file:\n",
        "  json.dump(token, file)\n",
        "\n",
        "!mkdir -p ~/.kaggle\n",
        "!cp /content/kaggle.json ~/.kaggle/\n",
        "!chmod 600 ~/.kaggle/kaggle.json\n",
        "!kaggle config set -n path -v /content\n",
        "!kaggle competitions download -c nyc-taxi-trip-duration"
      ],
      "execution_count": null,
      "outputs": [
        {
          "output_type": "stream",
          "text": [
            "Requirement already satisfied: kaggle in /usr/local/lib/python3.7/dist-packages (1.5.12)\n",
            "Requirement already satisfied: python-dateutil in /usr/local/lib/python3.7/dist-packages (from kaggle) (2.8.1)\n",
            "Requirement already satisfied: requests in /usr/local/lib/python3.7/dist-packages (from kaggle) (2.23.0)\n",
            "Requirement already satisfied: certifi in /usr/local/lib/python3.7/dist-packages (from kaggle) (2020.12.5)\n",
            "Requirement already satisfied: six>=1.10 in /usr/local/lib/python3.7/dist-packages (from kaggle) (1.15.0)\n",
            "Requirement already satisfied: python-slugify in /usr/local/lib/python3.7/dist-packages (from kaggle) (4.0.1)\n",
            "Requirement already satisfied: urllib3 in /usr/local/lib/python3.7/dist-packages (from kaggle) (1.24.3)\n",
            "Requirement already satisfied: tqdm in /usr/local/lib/python3.7/dist-packages (from kaggle) (4.41.1)\n",
            "Requirement already satisfied: chardet<4,>=3.0.2 in /usr/local/lib/python3.7/dist-packages (from requests->kaggle) (3.0.4)\n",
            "Requirement already satisfied: idna<3,>=2.5 in /usr/local/lib/python3.7/dist-packages (from requests->kaggle) (2.10)\n",
            "Requirement already satisfied: text-unidecode>=1.3 in /usr/local/lib/python3.7/dist-packages (from python-slugify->kaggle) (1.3)\n",
            "- path is now set to: /content\n",
            "Warning: Looks like you're using an outdated API Version, please consider updating (server 1.5.12 / client 1.5.4)\n",
            "Downloading sample_submission.zip to /content/competitions/nyc-taxi-trip-duration\n",
            "  0% 0.00/2.49M [00:00<?, ?B/s]\n",
            "100% 2.49M/2.49M [00:00<00:00, 83.6MB/s]\n",
            "Downloading train.zip to /content/competitions/nyc-taxi-trip-duration\n",
            " 79% 50.0M/62.9M [00:00<00:00, 104MB/s]\n",
            "100% 62.9M/62.9M [00:00<00:00, 117MB/s]\n",
            "Downloading test.zip to /content/competitions/nyc-taxi-trip-duration\n",
            " 88% 18.0M/20.3M [00:00<00:00, 81.8MB/s]\n",
            "100% 20.3M/20.3M [00:00<00:00, 79.8MB/s]\n"
          ],
          "name": "stdout"
        }
      ]
    },
    {
      "cell_type": "code",
      "metadata": {
        "colab": {
          "base_uri": "https://localhost:8080/"
        },
        "id": "YfPQeZkwELNP",
        "outputId": "86ca8bc6-fc67-434c-dbd4-c8fc889180a3"
      },
      "source": [
        "from google.colab import drive\n",
        "drive.mount('/content/drive')"
      ],
      "execution_count": null,
      "outputs": [
        {
          "output_type": "stream",
          "text": [
            "Mounted at /content/drive\n"
          ],
          "name": "stdout"
        }
      ]
    },
    {
      "cell_type": "code",
      "metadata": {
        "id": "jCVRjfmmICGI",
        "colab": {
          "base_uri": "https://localhost:8080/"
        },
        "outputId": "f00dbe84-11ee-43e8-db4d-49a9764878d0"
      },
      "source": [
        "!unzip /content/competitions/nyc-taxi-trip-duration/test.zip\n",
        "!unzip /content/competitions/nyc-taxi-trip-duration/train.zip"
      ],
      "execution_count": null,
      "outputs": [
        {
          "output_type": "stream",
          "text": [
            "Archive:  /content/competitions/nyc-taxi-trip-duration/test.zip\n",
            "  inflating: test.csv                \n",
            "Archive:  /content/competitions/nyc-taxi-trip-duration/train.zip\n",
            "  inflating: train.csv               \n"
          ],
          "name": "stdout"
        }
      ]
    },
    {
      "cell_type": "code",
      "metadata": {
        "id": "uQucRsWGI50G",
        "colab": {
          "base_uri": "https://localhost:8080/",
          "height": 204
        },
        "outputId": "81e8d703-f811-4488-c866-14632e4a19a6"
      },
      "source": [
        "# 读取数据\n",
        "import numpy as np\n",
        "import pandas as pd\n",
        "import seaborn as sns\n",
        "# from scipy.stats import boxcox\n",
        "test = pd.read_csv('test.csv')\n",
        "train = pd.read_csv('train.csv')\n",
        "\n",
        "train = train.drop(['id','vendor_id','store_and_fwd_flag'],axis=1)\n",
        "test = test.drop(['id','vendor_id','store_and_fwd_flag'],axis=1)\n",
        "\n",
        "train.head()"
      ],
      "execution_count": null,
      "outputs": [
        {
          "output_type": "execute_result",
          "data": {
            "text/html": [
              "<div>\n",
              "<style scoped>\n",
              "    .dataframe tbody tr th:only-of-type {\n",
              "        vertical-align: middle;\n",
              "    }\n",
              "\n",
              "    .dataframe tbody tr th {\n",
              "        vertical-align: top;\n",
              "    }\n",
              "\n",
              "    .dataframe thead th {\n",
              "        text-align: right;\n",
              "    }\n",
              "</style>\n",
              "<table border=\"1\" class=\"dataframe\">\n",
              "  <thead>\n",
              "    <tr style=\"text-align: right;\">\n",
              "      <th></th>\n",
              "      <th>pickup_datetime</th>\n",
              "      <th>dropoff_datetime</th>\n",
              "      <th>passenger_count</th>\n",
              "      <th>pickup_longitude</th>\n",
              "      <th>pickup_latitude</th>\n",
              "      <th>dropoff_longitude</th>\n",
              "      <th>dropoff_latitude</th>\n",
              "      <th>trip_duration</th>\n",
              "    </tr>\n",
              "  </thead>\n",
              "  <tbody>\n",
              "    <tr>\n",
              "      <th>0</th>\n",
              "      <td>2016-03-14 17:24:55</td>\n",
              "      <td>2016-03-14 17:32:30</td>\n",
              "      <td>1</td>\n",
              "      <td>-73.982155</td>\n",
              "      <td>40.767937</td>\n",
              "      <td>-73.964630</td>\n",
              "      <td>40.765602</td>\n",
              "      <td>455</td>\n",
              "    </tr>\n",
              "    <tr>\n",
              "      <th>1</th>\n",
              "      <td>2016-06-12 00:43:35</td>\n",
              "      <td>2016-06-12 00:54:38</td>\n",
              "      <td>1</td>\n",
              "      <td>-73.980415</td>\n",
              "      <td>40.738564</td>\n",
              "      <td>-73.999481</td>\n",
              "      <td>40.731152</td>\n",
              "      <td>663</td>\n",
              "    </tr>\n",
              "    <tr>\n",
              "      <th>2</th>\n",
              "      <td>2016-01-19 11:35:24</td>\n",
              "      <td>2016-01-19 12:10:48</td>\n",
              "      <td>1</td>\n",
              "      <td>-73.979027</td>\n",
              "      <td>40.763939</td>\n",
              "      <td>-74.005333</td>\n",
              "      <td>40.710087</td>\n",
              "      <td>2124</td>\n",
              "    </tr>\n",
              "    <tr>\n",
              "      <th>3</th>\n",
              "      <td>2016-04-06 19:32:31</td>\n",
              "      <td>2016-04-06 19:39:40</td>\n",
              "      <td>1</td>\n",
              "      <td>-74.010040</td>\n",
              "      <td>40.719971</td>\n",
              "      <td>-74.012268</td>\n",
              "      <td>40.706718</td>\n",
              "      <td>429</td>\n",
              "    </tr>\n",
              "    <tr>\n",
              "      <th>4</th>\n",
              "      <td>2016-03-26 13:30:55</td>\n",
              "      <td>2016-03-26 13:38:10</td>\n",
              "      <td>1</td>\n",
              "      <td>-73.973053</td>\n",
              "      <td>40.793209</td>\n",
              "      <td>-73.972923</td>\n",
              "      <td>40.782520</td>\n",
              "      <td>435</td>\n",
              "    </tr>\n",
              "  </tbody>\n",
              "</table>\n",
              "</div>"
            ],
            "text/plain": [
              "       pickup_datetime     dropoff_datetime  ...  dropoff_latitude  trip_duration\n",
              "0  2016-03-14 17:24:55  2016-03-14 17:32:30  ...         40.765602            455\n",
              "1  2016-06-12 00:43:35  2016-06-12 00:54:38  ...         40.731152            663\n",
              "2  2016-01-19 11:35:24  2016-01-19 12:10:48  ...         40.710087           2124\n",
              "3  2016-04-06 19:32:31  2016-04-06 19:39:40  ...         40.706718            429\n",
              "4  2016-03-26 13:30:55  2016-03-26 13:38:10  ...         40.782520            435\n",
              "\n",
              "[5 rows x 8 columns]"
            ]
          },
          "metadata": {
            "tags": []
          },
          "execution_count": 11
        }
      ]
    },
    {
      "cell_type": "code",
      "metadata": {
        "id": "wuih9KbxnXo_",
        "colab": {
          "base_uri": "https://localhost:8080/",
          "height": 204
        },
        "outputId": "9220b30d-ab0c-40f4-fba1-c4f9c73746e2"
      },
      "source": [
        "test.head()"
      ],
      "execution_count": null,
      "outputs": [
        {
          "output_type": "execute_result",
          "data": {
            "text/html": [
              "<div>\n",
              "<style scoped>\n",
              "    .dataframe tbody tr th:only-of-type {\n",
              "        vertical-align: middle;\n",
              "    }\n",
              "\n",
              "    .dataframe tbody tr th {\n",
              "        vertical-align: top;\n",
              "    }\n",
              "\n",
              "    .dataframe thead th {\n",
              "        text-align: right;\n",
              "    }\n",
              "</style>\n",
              "<table border=\"1\" class=\"dataframe\">\n",
              "  <thead>\n",
              "    <tr style=\"text-align: right;\">\n",
              "      <th></th>\n",
              "      <th>pickup_datetime</th>\n",
              "      <th>passenger_count</th>\n",
              "      <th>pickup_longitude</th>\n",
              "      <th>pickup_latitude</th>\n",
              "      <th>dropoff_longitude</th>\n",
              "      <th>dropoff_latitude</th>\n",
              "    </tr>\n",
              "  </thead>\n",
              "  <tbody>\n",
              "    <tr>\n",
              "      <th>0</th>\n",
              "      <td>2016-06-30 23:59:58</td>\n",
              "      <td>1</td>\n",
              "      <td>-73.988129</td>\n",
              "      <td>40.732029</td>\n",
              "      <td>-73.990173</td>\n",
              "      <td>40.756680</td>\n",
              "    </tr>\n",
              "    <tr>\n",
              "      <th>1</th>\n",
              "      <td>2016-06-30 23:59:53</td>\n",
              "      <td>1</td>\n",
              "      <td>-73.964203</td>\n",
              "      <td>40.679993</td>\n",
              "      <td>-73.959808</td>\n",
              "      <td>40.655403</td>\n",
              "    </tr>\n",
              "    <tr>\n",
              "      <th>2</th>\n",
              "      <td>2016-06-30 23:59:47</td>\n",
              "      <td>1</td>\n",
              "      <td>-73.997437</td>\n",
              "      <td>40.737583</td>\n",
              "      <td>-73.986160</td>\n",
              "      <td>40.729523</td>\n",
              "    </tr>\n",
              "    <tr>\n",
              "      <th>3</th>\n",
              "      <td>2016-06-30 23:59:41</td>\n",
              "      <td>1</td>\n",
              "      <td>-73.956070</td>\n",
              "      <td>40.771900</td>\n",
              "      <td>-73.986427</td>\n",
              "      <td>40.730469</td>\n",
              "    </tr>\n",
              "    <tr>\n",
              "      <th>4</th>\n",
              "      <td>2016-06-30 23:59:33</td>\n",
              "      <td>1</td>\n",
              "      <td>-73.970215</td>\n",
              "      <td>40.761475</td>\n",
              "      <td>-73.961510</td>\n",
              "      <td>40.755890</td>\n",
              "    </tr>\n",
              "  </tbody>\n",
              "</table>\n",
              "</div>"
            ],
            "text/plain": [
              "       pickup_datetime  passenger_count  ...  dropoff_longitude  dropoff_latitude\n",
              "0  2016-06-30 23:59:58                1  ...         -73.990173         40.756680\n",
              "1  2016-06-30 23:59:53                1  ...         -73.959808         40.655403\n",
              "2  2016-06-30 23:59:47                1  ...         -73.986160         40.729523\n",
              "3  2016-06-30 23:59:41                1  ...         -73.986427         40.730469\n",
              "4  2016-06-30 23:59:33                1  ...         -73.961510         40.755890\n",
              "\n",
              "[5 rows x 6 columns]"
            ]
          },
          "metadata": {
            "tags": []
          },
          "execution_count": 12
        }
      ]
    },
    {
      "cell_type": "code",
      "metadata": {
        "id": "31uz5htLJgkF",
        "colab": {
          "base_uri": "https://localhost:8080/"
        },
        "outputId": "9d34ef61-5e72-4d28-a927-7fe3a6eed3ab"
      },
      "source": [
        "# 特征工程\n",
        "from datetime import datetime\n",
        "train.info()"
      ],
      "execution_count": null,
      "outputs": [
        {
          "output_type": "stream",
          "text": [
            "<class 'pandas.core.frame.DataFrame'>\n",
            "RangeIndex: 1458644 entries, 0 to 1458643\n",
            "Data columns (total 8 columns):\n",
            " #   Column             Non-Null Count    Dtype  \n",
            "---  ------             --------------    -----  \n",
            " 0   pickup_datetime    1458644 non-null  object \n",
            " 1   dropoff_datetime   1458644 non-null  object \n",
            " 2   passenger_count    1458644 non-null  int64  \n",
            " 3   pickup_longitude   1458644 non-null  float64\n",
            " 4   pickup_latitude    1458644 non-null  float64\n",
            " 5   dropoff_longitude  1458644 non-null  float64\n",
            " 6   dropoff_latitude   1458644 non-null  float64\n",
            " 7   trip_duration      1458644 non-null  int64  \n",
            "dtypes: float64(4), int64(2), object(2)\n",
            "memory usage: 89.0+ MB\n"
          ],
          "name": "stdout"
        }
      ]
    },
    {
      "cell_type": "code",
      "metadata": {
        "id": "pOvanKIoRO8A",
        "colab": {
          "base_uri": "https://localhost:8080/"
        },
        "outputId": "bad12882-55d0-4c9b-a8de-e14f05f0662c"
      },
      "source": [
        "# 生成欧式距离特征\n",
        "train['x'] = (train.pickup_longitude - train.dropoff_longitude)**2\n",
        "train['y'] = (train.pickup_latitude - train.dropoff_latitude)**2\n",
        "train['distance_sqrt'] = train.x + train.y\n",
        "train['distance'] = np.sqrt(train.distance_sqrt) * 1000\n",
        "\n",
        "test['x'] = (test.pickup_longitude - test.dropoff_longitude)**2\n",
        "test['y'] = (test.pickup_latitude - test.dropoff_latitude)**2\n",
        "test['distance_sqrt'] = test.x + test.y\n",
        "test['distance'] = np.sqrt(test.distance_sqrt) *1000\n",
        "\n",
        "train = train.drop(['x','y','distance_sqrt'],axis=1)\n",
        "test = test.drop(['x','y','distance_sqrt'],axis=1)\n",
        "\n",
        "# 生成曼哈顿距离特征\n",
        "train['manhattan_distance'] = (abs(train.dropoff_longitude - train.pickup_longitude) +\n",
        "                            abs(train.dropoff_latitude - train.pickup_latitude))\n",
        "test['manhattan_distance'] = (abs(test.dropoff_longitude - test.pickup_longitude) +\n",
        "                            abs(test.dropoff_latitude - test.pickup_latitude))\n",
        "\n",
        "# 生成Haversine Distance特征\n",
        "from math import radians, cos, sin, asin, sqrt\n",
        "\n",
        "def haversine(lat1, lon1, lat2, lon2):\n",
        "    \"\"\"\n",
        "    Calculate the great circle distance between two points \n",
        "    on the earth (specified in decimal degrees)\n",
        "    \"\"\"\n",
        "    # convert decimal degrees to radians \n",
        "    lon1, lat1, lon2, lat2 = map(radians, [lon1, lat1, lon2, lat2])\n",
        "\n",
        "    # haversine formula \n",
        "    dlon = lon2 - lon1 \n",
        "    dlat = lat2 - lat1 \n",
        "    a = sin(dlat/2)**2 + cos(lat1) * cos(lat2) * sin(dlon/2)**2\n",
        "    c = 2 * asin(sqrt(a)) \n",
        "    r = 6371 # Radius of earth in kilometers. Use 3956 for miles\n",
        "    return c * r\n",
        "                                          \n",
        "train['haversine_distance'] = train.apply(lambda r: haversine(r['pickup_latitude'],r['pickup_longitude'],\n",
        "                                                                  r['dropoff_latitude'], r['dropoff_longitude']), axis=1)\n",
        "test['haversine_distance'] = test.apply(lambda r: haversine(r['pickup_latitude'],r['pickup_longitude'],\n",
        "                                                                  r['dropoff_latitude'], r['dropoff_longitude']), axis=1)\n",
        "\n",
        "print(len(train))"
      ],
      "execution_count": null,
      "outputs": [
        {
          "output_type": "stream",
          "text": [
            "1458644\n"
          ],
          "name": "stdout"
        }
      ]
    },
    {
      "cell_type": "code",
      "metadata": {
        "colab": {
          "base_uri": "https://localhost:8080/",
          "height": 309
        },
        "id": "ctpqD7NzDs64",
        "outputId": "7efc71df-a278-4feb-9d6e-f7b29ae0eb52"
      },
      "source": [
        "from geopy.distance import geodesic\n",
        "\n",
        "def get_distance(source_lat, source_long, dest_lat, dest_long):\n",
        "    # Returns the distance in Miles between the source and the destination.\n",
        "    \n",
        "    distance = geodesic((source_lat, source_long), \n",
        "                        (dest_lat, dest_long)).miles\n",
        "    return distance\n",
        "\n",
        "train['miles_distance'] = train.apply(lambda x: get_distance(x.pickup_latitude, x.pickup_longitude,\n",
        "                                                       x.dropoff_latitude, x.dropoff_longitude), axis=1)\n",
        "\n",
        "train.head()\n",
        "\n",
        "# sns.set(rc={'figure.figsize':(15, 5)})\n",
        "# sns.distplot(train['trip_duration'].values/3600, axlabel = 'Trip Duration (in Hours)', bins = 75)"
      ],
      "execution_count": null,
      "outputs": [
        {
          "output_type": "execute_result",
          "data": {
            "text/html": [
              "<div>\n",
              "<style scoped>\n",
              "    .dataframe tbody tr th:only-of-type {\n",
              "        vertical-align: middle;\n",
              "    }\n",
              "\n",
              "    .dataframe tbody tr th {\n",
              "        vertical-align: top;\n",
              "    }\n",
              "\n",
              "    .dataframe thead th {\n",
              "        text-align: right;\n",
              "    }\n",
              "</style>\n",
              "<table border=\"1\" class=\"dataframe\">\n",
              "  <thead>\n",
              "    <tr style=\"text-align: right;\">\n",
              "      <th></th>\n",
              "      <th>pickup_datetime</th>\n",
              "      <th>dropoff_datetime</th>\n",
              "      <th>passenger_count</th>\n",
              "      <th>pickup_longitude</th>\n",
              "      <th>pickup_latitude</th>\n",
              "      <th>dropoff_longitude</th>\n",
              "      <th>dropoff_latitude</th>\n",
              "      <th>trip_duration</th>\n",
              "      <th>distance</th>\n",
              "      <th>manhattan_distance</th>\n",
              "      <th>haversine_distance</th>\n",
              "      <th>miles_distance</th>\n",
              "    </tr>\n",
              "  </thead>\n",
              "  <tbody>\n",
              "    <tr>\n",
              "      <th>0</th>\n",
              "      <td>2016-03-14 17:24:55</td>\n",
              "      <td>2016-03-14 17:32:30</td>\n",
              "      <td>1</td>\n",
              "      <td>-73.982155</td>\n",
              "      <td>40.767937</td>\n",
              "      <td>-73.964630</td>\n",
              "      <td>40.765602</td>\n",
              "      <td>455</td>\n",
              "      <td>17.679539</td>\n",
              "      <td>0.019859</td>\n",
              "      <td>1.498521</td>\n",
              "      <td>0.933406</td>\n",
              "    </tr>\n",
              "    <tr>\n",
              "      <th>1</th>\n",
              "      <td>2016-06-12 00:43:35</td>\n",
              "      <td>2016-06-12 00:54:38</td>\n",
              "      <td>1</td>\n",
              "      <td>-73.980415</td>\n",
              "      <td>40.738564</td>\n",
              "      <td>-73.999481</td>\n",
              "      <td>40.731152</td>\n",
              "      <td>663</td>\n",
              "      <td>20.455904</td>\n",
              "      <td>0.026478</td>\n",
              "      <td>1.805507</td>\n",
              "      <td>1.123849</td>\n",
              "    </tr>\n",
              "    <tr>\n",
              "      <th>2</th>\n",
              "      <td>2016-01-19 11:35:24</td>\n",
              "      <td>2016-01-19 12:10:48</td>\n",
              "      <td>1</td>\n",
              "      <td>-73.979027</td>\n",
              "      <td>40.763939</td>\n",
              "      <td>-74.005333</td>\n",
              "      <td>40.710087</td>\n",
              "      <td>2124</td>\n",
              "      <td>59.933799</td>\n",
              "      <td>0.080158</td>\n",
              "      <td>6.385098</td>\n",
              "      <td>3.964154</td>\n",
              "    </tr>\n",
              "    <tr>\n",
              "      <th>3</th>\n",
              "      <td>2016-04-06 19:32:31</td>\n",
              "      <td>2016-04-06 19:39:40</td>\n",
              "      <td>1</td>\n",
              "      <td>-74.010040</td>\n",
              "      <td>40.719971</td>\n",
              "      <td>-74.012268</td>\n",
              "      <td>40.706718</td>\n",
              "      <td>429</td>\n",
              "      <td>13.438206</td>\n",
              "      <td>0.015480</td>\n",
              "      <td>1.485498</td>\n",
              "      <td>0.921886</td>\n",
              "    </tr>\n",
              "    <tr>\n",
              "      <th>4</th>\n",
              "      <td>2016-03-26 13:30:55</td>\n",
              "      <td>2016-03-26 13:38:10</td>\n",
              "      <td>1</td>\n",
              "      <td>-73.973053</td>\n",
              "      <td>40.793209</td>\n",
              "      <td>-73.972923</td>\n",
              "      <td>40.782520</td>\n",
              "      <td>435</td>\n",
              "      <td>10.689569</td>\n",
              "      <td>0.010818</td>\n",
              "      <td>1.188588</td>\n",
              "      <td>0.737591</td>\n",
              "    </tr>\n",
              "  </tbody>\n",
              "</table>\n",
              "</div>"
            ],
            "text/plain": [
              "       pickup_datetime     dropoff_datetime  ...  haversine_distance  miles_distance\n",
              "0  2016-03-14 17:24:55  2016-03-14 17:32:30  ...            1.498521        0.933406\n",
              "1  2016-06-12 00:43:35  2016-06-12 00:54:38  ...            1.805507        1.123849\n",
              "2  2016-01-19 11:35:24  2016-01-19 12:10:48  ...            6.385098        3.964154\n",
              "3  2016-04-06 19:32:31  2016-04-06 19:39:40  ...            1.485498        0.921886\n",
              "4  2016-03-26 13:30:55  2016-03-26 13:38:10  ...            1.188588        0.737591\n",
              "\n",
              "[5 rows x 12 columns]"
            ]
          },
          "metadata": {
            "tags": []
          },
          "execution_count": 15
        }
      ]
    },
    {
      "cell_type": "code",
      "metadata": {
        "id": "K_lZYRbtqkwP"
      },
      "source": [
        "# 通过经纬度计算出航向角\n",
        "def calculate_bearing(pickup_lat, pickup_long, dropoff_lat, dropoff_long):\n",
        "    '''Calculate the direction of travel in degrees'''\n",
        "    pickup_lat_rads = np.radians(pickup_lat)\n",
        "    pickup_long_rads = np.radians(pickup_long)\n",
        "    dropoff_lat_rads = np.radians(dropoff_lat)\n",
        "    dropoff_long_rads = np.radians(dropoff_long)\n",
        "    long_delta_rads = np.radians(dropoff_long_rads - pickup_long_rads)\n",
        "    \n",
        "    y = np.sin(long_delta_rads) * np.cos(dropoff_lat_rads)\n",
        "    x = (np.cos(pickup_lat_rads) * \n",
        "         np.sin(dropoff_lat_rads) - \n",
        "         np.sin(pickup_lat_rads) * \n",
        "         np.cos(dropoff_lat_rads) * \n",
        "         np.cos(long_delta_rads))\n",
        "    \n",
        "    return np.degrees(np.arctan2(y, x))\n",
        "\n",
        "train['bearing'] = calculate_bearing(train.pickup_latitude, train.pickup_longitude, train.dropoff_latitude, train.dropoff_longitude)\n",
        "test['bearing'] = calculate_bearing(test.pickup_latitude, test.pickup_longitude, test.dropoff_latitude, test.dropoff_longitude)"
      ],
      "execution_count": null,
      "outputs": []
    },
    {
      "cell_type": "code",
      "metadata": {
        "colab": {
          "base_uri": "https://localhost:8080/",
          "height": 350
        },
        "id": "XYTlx2HCMBGR",
        "outputId": "8e6471d0-990b-44e0-96f1-64f00ba089bd"
      },
      "source": [
        "df_filtered = train[train['miles_distance'] <= 20].copy()\n",
        "sns.distplot(df_filtered['miles_distance'].values, axlabel = 'Trip Distance', bins = 20)"
      ],
      "execution_count": null,
      "outputs": [
        {
          "output_type": "stream",
          "text": [
            "/usr/local/lib/python3.7/dist-packages/seaborn/distributions.py:2557: FutureWarning: `distplot` is a deprecated function and will be removed in a future version. Please adapt your code to use either `displot` (a figure-level function with similar flexibility) or `histplot` (an axes-level function for histograms).\n",
            "  warnings.warn(msg, FutureWarning)\n"
          ],
          "name": "stderr"
        },
        {
          "output_type": "execute_result",
          "data": {
            "text/plain": [
              "<matplotlib.axes._subplots.AxesSubplot at 0x7f52f4696fd0>"
            ]
          },
          "metadata": {
            "tags": []
          },
          "execution_count": 19
        },
        {
          "output_type": "display_data",
          "data": {
            "image/png": "[encoded data removed]",
            "text/plain": [
              "<Figure size 432x288 with 1 Axes>"
            ]
          },
          "metadata": {
            "tags": [],
            "needs_background": "light"
          }
        }
      ]
    },
    {
      "cell_type": "code",
      "metadata": {
        "colab": {
          "base_uri": "https://localhost:8080/",
          "height": 350
        },
        "id": "pJsATLpoE3jD",
        "outputId": "a065b9fb-46e5-4f89-9a66-5e9b2c8398aa"
      },
      "source": [
        "df_filtered = train[train['distance'] <= 300].copy()\n",
        "sns.distplot(df_filtered['distance'].values, axlabel = 'Trip Distance', bins = 20)"
      ],
      "execution_count": null,
      "outputs": [
        {
          "output_type": "stream",
          "text": [
            "/usr/local/lib/python3.7/dist-packages/seaborn/distributions.py:2557: FutureWarning: `distplot` is a deprecated function and will be removed in a future version. Please adapt your code to use either `displot` (a figure-level function with similar flexibility) or `histplot` (an axes-level function for histograms).\n",
            "  warnings.warn(msg, FutureWarning)\n"
          ],
          "name": "stderr"
        },
        {
          "output_type": "execute_result",
          "data": {
            "text/plain": [
              "<matplotlib.axes._subplots.AxesSubplot at 0x7f52ed43ef10>"
            ]
          },
          "metadata": {
            "tags": []
          },
          "execution_count": 20
        },
        {
          "output_type": "display_data",
          "data": {
            "image/png": "[encoded data removed]",
            "text/plain": [
              "<Figure size 432x288 with 1 Axes>"
            ]
          },
          "metadata": {
            "tags": [],
            "needs_background": "light"
          }
        }
      ]
    },
    {
      "cell_type": "code",
      "metadata": {
        "colab": {
          "base_uri": "https://localhost:8080/",
          "height": 308
        },
        "id": "SzL9tV7comRY",
        "outputId": "c287cc17-1f07-4b5e-90ce-dc402ea7d3b1"
      },
      "source": [
        "sns.scatterplot(data=train, x=\"miles_distance\", y=\"trip_duration\")"
      ],
      "execution_count": null,
      "outputs": [
        {
          "output_type": "execute_result",
          "data": {
            "text/plain": [
              "<matplotlib.axes._subplots.AxesSubplot at 0x7f52f50bb050>"
            ]
          },
          "metadata": {
            "tags": []
          },
          "execution_count": 21
        },
        {
          "output_type": "display_data",
          "data": {
            "image/png": "[encoded data removed]",
            "text/plain": [
              "<Figure size 432x288 with 1 Axes>"
            ]
          },
          "metadata": {
            "tags": [],
            "needs_background": "light"
          }
        }
      ]
    },
    {
      "cell_type": "code",
      "metadata": {
        "id": "tlPx-0wre1iJ"
      },
      "source": [
        "# 生成月份 / 日期 / 星期 /时上车时间 特征\n",
        "data = train.copy()\n",
        "year = data['pickup_datetime'].apply(lambda x:x[0:4])\n",
        "month = data['pickup_datetime'].apply(lambda x:x[5:7])\n",
        "day = data['pickup_datetime'].apply(lambda x:x[8:10])\n",
        "\n",
        "pickup_hour = data['pickup_datetime'].apply(lambda x:x[11:13])\n",
        "pickup_minute = data['pickup_datetime'].apply(lambda x:x[14:16])\n",
        "pickup_second = data['pickup_datetime'].apply(lambda x:x[17:])\n",
        "\n",
        "weekday = []\n",
        "pickup_time =[]\n",
        "for i in range(len(year)):\n",
        "  date = str(year[i])+str(month[i])+str(day[i])\n",
        "  w = datetime.strptime(date, \"%Y%m%d\").weekday()\n",
        "  weekday.append(w)\n",
        "\n",
        "  p_time = int(pickup_hour[i]) + int(pickup_minute[i])/60 + int(pickup_second[i])/360\n",
        "  pickup_time.append(p_time)\n",
        "\n",
        "data['month'] = month\n",
        "data['day'] = day\n",
        "data['weekday'] = weekday\n",
        "data['pickup_time'] = pickup_time\n",
        "\n",
        "train = data.drop(['dropoff_datetime','pickup_datetime'],axis=1)\n",
        "# train.info()"
      ],
      "execution_count": null,
      "outputs": []
    },
    {
      "cell_type": "code",
      "metadata": {
        "id": "lNc_Nza0muT2"
      },
      "source": [
        "data = test.copy()\n",
        "year = data['pickup_datetime'].apply(lambda x:x[0:4])\n",
        "month = data['pickup_datetime'].apply(lambda x:x[5:7])\n",
        "day = data['pickup_datetime'].apply(lambda x:x[8:10])\n",
        "\n",
        "pickup_hour = data['pickup_datetime'].apply(lambda x:x[11:13])\n",
        "pickup_minute = data['pickup_datetime'].apply(lambda x:x[14:16])\n",
        "pickup_second = data['pickup_datetime'].apply(lambda x:x[17:])\n",
        "\n",
        "weekday = []\n",
        "pickup_time =[]\n",
        "for i in range(len(year)):\n",
        "  date = str(year[i])+str(month[i])+str(day[i])\n",
        "  w = datetime.strptime(date, \"%Y%m%d\").weekday()\n",
        "  weekday.append(w)\n",
        "\n",
        "  p_time = int(pickup_hour[i]) + int(pickup_minute[i])/60 + int(pickup_second[i])/360\n",
        "  pickup_time.append(p_time)\n",
        "\n",
        "data['month'] = month\n",
        "data['day'] = day\n",
        "data['weekday'] = weekday\n",
        "data['pickup_time'] = pickup_time\n",
        "\n",
        "test = data.drop(['pickup_datetime'],axis=1)\n",
        "# test.info()"
      ],
      "execution_count": null,
      "outputs": []
    },
    {
      "cell_type": "code",
      "metadata": {
        "id": "N8FVvUbguW21",
        "colab": {
          "base_uri": "https://localhost:8080/"
        },
        "outputId": "6149d4de-f94e-48db-a772-569436399e00"
      },
      "source": [
        "# 使用PCA将经纬度数据完成2D->2D的转化\n",
        "\n",
        "from sklearn.decomposition import PCA\n",
        "coords = np.vstack((train[['pickup_latitude', 'pickup_longitude']].values,\n",
        "                    train[['dropoff_latitude', 'dropoff_longitude']].values,\n",
        "                    test[['pickup_latitude', 'pickup_longitude']].values,\n",
        "                    test[['dropoff_latitude', 'dropoff_longitude']].values))\n",
        "\n",
        "pca = PCA().fit(coords)\n",
        "train['pickup_pca0'] = pca.transform(train[['pickup_latitude', 'pickup_longitude']])[:, 0]\n",
        "train['pickup_pca1'] = pca.transform(train[['pickup_latitude', 'pickup_longitude']])[:, 1]\n",
        "train['dropoff_pca0'] = pca.transform(train[['dropoff_latitude', 'dropoff_longitude']])[:, 0]\n",
        "train['dropoff_pca1'] = pca.transform(train[['dropoff_latitude', 'dropoff_longitude']])[:, 1]\n",
        "test['pickup_pca0'] = pca.transform(test[['pickup_latitude', 'pickup_longitude']])[:, 0]\n",
        "test['pickup_pca1'] = pca.transform(test[['pickup_latitude', 'pickup_longitude']])[:, 1]\n",
        "test['dropoff_pca0'] = pca.transform(test[['dropoff_latitude', 'dropoff_longitude']])[:, 0]\n",
        "test['dropoff_pca1'] = pca.transform(test[['dropoff_latitude', 'dropoff_longitude']])[:, 1]\n",
        "\n",
        "\n",
        "train.info()"
      ],
      "execution_count": null,
      "outputs": [
        {
          "output_type": "stream",
          "text": [
            "<class 'pandas.core.frame.DataFrame'>\n",
            "RangeIndex: 1458644 entries, 0 to 1458643\n",
            "Data columns (total 19 columns):\n",
            " #   Column              Non-Null Count    Dtype  \n",
            "---  ------              --------------    -----  \n",
            " 0   passenger_count     1458644 non-null  int64  \n",
            " 1   pickup_longitude    1458644 non-null  float64\n",
            " 2   pickup_latitude     1458644 non-null  float64\n",
            " 3   dropoff_longitude   1458644 non-null  float64\n",
            " 4   dropoff_latitude    1458644 non-null  float64\n",
            " 5   trip_duration       1458644 non-null  int64  \n",
            " 6   distance            1458644 non-null  float64\n",
            " 7   manhattan_distance  1458644 non-null  float64\n",
            " 8   haversine_distance  1458644 non-null  float64\n",
            " 9   miles_distance      1458644 non-null  float64\n",
            " 10  bearing             1458644 non-null  float64\n",
            " 11  month               1458644 non-null  object \n",
            " 12  day                 1458644 non-null  object \n",
            " 13  weekday             1458644 non-null  int64  \n",
            " 14  pickup_time         1458644 non-null  float64\n",
            " 15  pickup_pca0         1458644 non-null  float64\n",
            " 16  pickup_pca1         1458644 non-null  float64\n",
            " 17  dropoff_pca0        1458644 non-null  float64\n",
            " 18  dropoff_pca1        1458644 non-null  float64\n",
            "dtypes: float64(14), int64(3), object(2)\n",
            "memory usage: 211.4+ MB\n"
          ],
          "name": "stdout"
        }
      ]
    },
    {
      "cell_type": "code",
      "metadata": {
        "id": "hLE_Xg9tpRAh",
        "colab": {
          "base_uri": "https://localhost:8080/"
        },
        "outputId": "0e35ea66-a1b3-4ebe-d0c3-26f362b7a5fe"
      },
      "source": [
        "# 生成区域特征 （Brookly / Staten_island / Manhattan / Bronx / Queens）\n",
        "\n",
        "y = train.trip_duration\n",
        "X_train = train.drop(['trip_duration'],axis=1)\n",
        "\n",
        "# 上车区域\n",
        "train_pickup_borough = []\n",
        "for j,k in zip(X_train.pickup_longitude,X_train.pickup_latitude):\n",
        "    if ((j>=-74.040269) and (j<=-73.865036)) and ((k>=40.574031) and (k<=40.736728)):\n",
        "        train_pickup_borough.append('Brooklyn')\n",
        "    elif ((j>=-74.245856) and (j<=-73.057562)) and ((k>=40.502863) and (k<=40.647234)):\n",
        "        train_pickup_borough.append('Staten_island')\n",
        "    elif ((j>=-74.011645) and (j<=-73.913772)) and ((k>=40.703384) and (k<=40.876058)):\n",
        "        train_pickup_borough.append('Manhattan')\n",
        "    elif ((j>=-73.931573) and (j<=-73.781473)) and ((k>=40.797766) and (k<=40.912460)):\n",
        "        train_pickup_borough.append('Bronx')\n",
        "    else: train_pickup_borough.append('Queens')\n",
        "Borough_ptrain = pd.DataFrame(train_pickup_borough,columns=['pickup_borough'])\n",
        "X_train = pd.concat([X_train,Borough_ptrain], axis=1)\n",
        "\n",
        "# 下车区域\n",
        "train_dropoff_borough = []\n",
        "for d,f in zip(X_train.dropoff_longitude,X_train.dropoff_latitude):\n",
        "    if ((d>=-74.040269) and (d<=-73.865036)) and ((f>=40.574031) and (f<=40.736728)):\n",
        "        train_dropoff_borough.append('Brooklyn')\n",
        "    elif ((d>=-74.245856) and (d<=-73.057562)) and ((f>=40.502863) and (f<=40.647234)):\n",
        "        train_dropoff_borough.append('Staten_island')\n",
        "    elif ((d>=-74.011645) and (d<=-73.913772)) and ((f>=40.703384) and (f<=40.876058)):\n",
        "        train_dropoff_borough.append('Manhattan')\n",
        "    elif ((d>=-73.931573) and (d<=-73.781473)) and ((f>=40.797766) and (f<=40.912460)):\n",
        "        train_dropoff_borough.append('Bronx')\n",
        "    else: train_dropoff_borough.append('Queens')\n",
        "Borough_dtrain = pd.DataFrame(train_dropoff_borough,columns=['dropoff_borough'])\n",
        "X_train = pd.concat([X_train,Borough_dtrain],axis=1)\n",
        "X_train.info()"
      ],
      "execution_count": null,
      "outputs": [
        {
          "output_type": "stream",
          "text": [
            "<class 'pandas.core.frame.DataFrame'>\n",
            "RangeIndex: 1458644 entries, 0 to 1458643\n",
            "Data columns (total 20 columns):\n",
            " #   Column              Non-Null Count    Dtype  \n",
            "---  ------              --------------    -----  \n",
            " 0   passenger_count     1458644 non-null  int64  \n",
            " 1   pickup_longitude    1458644 non-null  float64\n",
            " 2   pickup_latitude     1458644 non-null  float64\n",
            " 3   dropoff_longitude   1458644 non-null  float64\n",
            " 4   dropoff_latitude    1458644 non-null  float64\n",
            " 5   distance            1458644 non-null  float64\n",
            " 6   manhattan_distance  1458644 non-null  float64\n",
            " 7   haversine_distance  1458644 non-null  float64\n",
            " 8   miles_distance      1458644 non-null  float64\n",
            " 9   bearing             1458644 non-null  float64\n",
            " 10  month               1458644 non-null  object \n",
            " 11  day                 1458644 non-null  object \n",
            " 12  weekday             1458644 non-null  int64  \n",
            " 13  pickup_time         1458644 non-null  float64\n",
            " 14  pickup_pca0         1458644 non-null  float64\n",
            " 15  pickup_pca1         1458644 non-null  float64\n",
            " 16  dropoff_pca0        1458644 non-null  float64\n",
            " 17  dropoff_pca1        1458644 non-null  float64\n",
            " 18  pickup_borough      1458644 non-null  object \n",
            " 19  dropoff_borough     1458644 non-null  object \n",
            "dtypes: float64(14), int64(2), object(4)\n",
            "memory usage: 222.6+ MB\n"
          ],
          "name": "stdout"
        }
      ]
    },
    {
      "cell_type": "code",
      "metadata": {
        "id": "HA-Dn5z1p3p8"
      },
      "source": [
        "X_test = test\n",
        "\n",
        "# 上车区域\n",
        "test_pickup_borough = []\n",
        "for g,h in zip(X_test.pickup_longitude,X_test.pickup_latitude):\n",
        "    if ((g>=-74.040269) and (g<=-73.865036)) and ((h>=40.574031) and (h<=40.736728)):\n",
        "        test_pickup_borough.append('Brooklyn')\n",
        "    elif ((g>=-74.245856) and (g<=-73.057562)) and ((h>=40.502863) and (h<=40.647234)):\n",
        "        test_pickup_borough.append('Staten_island')\n",
        "    elif ((g>=-74.011645) and (g<=-73.913772)) and ((h>=40.703384) and (h<=40.876058)):\n",
        "        test_pickup_borough.append('Manhattan')\n",
        "    elif ((g>=-73.931573) and (g<=-73.781473)) and ((h>=40.797766) and (h<=40.912460)):\n",
        "        test_pickup_borough.append('Bronx')\n",
        "    else: test_pickup_borough.append('Queens')\n",
        "Borough_ptest = pd.DataFrame(test_pickup_borough,columns=['pickup_borough'])\n",
        "X_test = pd.concat([X_test,Borough_ptest],axis=1)\n",
        "\n",
        "# 下车区域\n",
        "test_dropoff_borough = []\n",
        "for a,s in zip(X_test.dropoff_longitude,X_test.dropoff_latitude):\n",
        "    if ((a>=-74.040269) and (a<=-73.865036)) and ((s>=40.574031) and (s<=40.736728)):\n",
        "        test_dropoff_borough.append('Brooklyn')\n",
        "    elif ((a>=-74.245856) and (a<=-73.057562)) and ((s>=40.502863) and (s<=40.647234)):\n",
        "        test_dropoff_borough.append('Staten_island')\n",
        "    elif ((a>=-74.011645) and (a<=-73.913772)) and ((s>=40.703384) and (s<=40.876058)):\n",
        "        test_dropoff_borough.append('Manhattan')\n",
        "    elif ((a>=-73.931573) and (a<=-73.781473)) and ((s>=40.797766) and (s<=40.912460)):\n",
        "        test_dropoff_borough.append('Bronx')\n",
        "    else: test_dropoff_borough.append('Queens')\n",
        "Borough_dtest = pd.DataFrame(test_dropoff_borough,columns=['dropoff_borough'])\n",
        "X_test = pd.concat([X_test,Borough_dtest],axis=1)\n",
        "# X_test.info()"
      ],
      "execution_count": null,
      "outputs": []
    },
    {
      "cell_type": "code",
      "metadata": {
        "id": "48K2j3rjrFWP"
      },
      "source": [
        "# 生成区域速度特征\n",
        "X_train['speed'] = X_train['distance'] / y\n",
        "\n",
        "from typing import List\n",
        "def assign_borough_speed(df: pd.DataFrame) -> pd.DataFrame:\n",
        "    borough_speed = []\n",
        "    for colitter in df['dropoff_borough']:\n",
        "        if colitter == 'Staten_island':\n",
        "            borough_speed.append(20.179187)\n",
        "        elif colitter == 'Bronx':\n",
        "            borough_speed.append(14.042448)\n",
        "        elif colitter == 'Queens':\n",
        "            borough_speed.append(12.183943)\n",
        "        elif colitter == 'Brooklin':\n",
        "            borough_speed.append(4.583516)\n",
        "        else: borough_speed.append(3.450198)\n",
        "    \n",
        "    borough_speed = pd.DataFrame(borough_speed, columns=['borough_speed'])\n",
        "    return pd.concat([df, borough_speed], axis=1) \n",
        "\n",
        "X_train = assign_borough_speed(df=X_train)\n",
        "X_test = assign_borough_speed(df=X_test)\n",
        "\n",
        "X_train = X_train.drop(['speed'],axis=1)"
      ],
      "execution_count": null,
      "outputs": []
    },
    {
      "cell_type": "code",
      "metadata": {
        "id": "Aiglz1UqrPX6"
      },
      "source": [
        "# 将区域特征转化成数字\n",
        "from sklearn.preprocessing import LabelEncoder\n",
        "encoder = LabelEncoder()\n",
        "X_train['pickup_borough'] = encoder.fit_transform(X_train['pickup_borough'])\n",
        "X_test['pickup_borough'] =  encoder.transform(X_test['pickup_borough'])\n",
        "X_train['dropoff_borough'] = encoder.transform(X_train['dropoff_borough'])\n",
        "X_test['dropoff_borough'] =  encoder.transform(X_test['dropoff_borough'])\n",
        "# X_train.info()"
      ],
      "execution_count": null,
      "outputs": []
    },
    {
      "cell_type": "code",
      "metadata": {
        "colab": {
          "base_uri": "https://localhost:8080/",
          "height": 297
        },
        "id": "GLLCs3q3lgv0",
        "outputId": "44e17cfa-0ec0-4eb8-add4-105ec5d3f0a2"
      },
      "source": [
        "# 分析距离特征，去除部分异常值\n",
        "X_train['trip_duration'] = y\n",
        "\n",
        "# 去除为0的duation特征\n",
        "# X_train['trip_duration'],_ = boxcox(X_train['trip_duration'])\n",
        "# X_train = X_train[X_train['trip_duration'] !=0].reset_index(drop=True)\n",
        "\n",
        "# 去除 duration与 distance 比例不符合逻辑的数值\n",
        "from sklearn.ensemble import IsolationForest\n",
        "clf = IsolationForest(random_state = 42, contamination = 0.01)\n",
        "X_train['Anomaly'] = clf.fit_predict(X_train[['miles_distance', 'trip_duration']])\n",
        "X_train = X_train.loc[X_train['Anomaly'] == 1].copy()\n",
        "y = X_train.trip_duration\n",
        "\n",
        "sns.scatterplot(data=X_train, x=\"miles_distance\", y=\"trip_duration\")"
      ],
      "execution_count": null,
      "outputs": [
        {
          "output_type": "execute_result",
          "data": {
            "text/plain": [
              "<matplotlib.axes._subplots.AxesSubplot at 0x7f52da625950>"
            ]
          },
          "metadata": {
            "tags": []
          },
          "execution_count": 33
        },
        {
          "output_type": "display_data",
          "data": {
            "image/png": "[encoded data removed]",
            "text/plain": [
              "<Figure size 432x288 with 1 Axes>"
            ]
          },
          "metadata": {
            "tags": [],
            "needs_background": "light"
          }
        }
      ]
    },
    {
      "cell_type": "code",
      "metadata": {
        "id": "XrOXKhvvt0JN",
        "colab": {
          "base_uri": "https://localhost:8080/"
        },
        "outputId": "bdbe83bd-a567-4d40-98ad-7546b845f120"
      },
      "source": [
        "# 删除不需要的特征数据\n",
        "\n",
        "# print(X_train.columns)\n",
        "# print(X_train.columns)\n",
        "\n",
        "# X_train = X_train.drop(['Anomaly', 'trip_duration'],axis=1)\n",
        "# X_train = X_train.drop(['pickup_longitude','pickup_latitude','dropoff_longitude','dropoff_latitude'],axis = 1)\n",
        "# X_test = X_test.drop(['pickup_longitude','pickup_latitude','dropoff_longitude','dropoff_latitude'],axis = 1)\n",
        "\n",
        "X_train.info()"
      ],
      "execution_count": null,
      "outputs": [
        {
          "output_type": "stream",
          "text": [
            "<class 'pandas.core.frame.DataFrame'>\n",
            "Int64Index: 1429647 entries, 0 to 1458643\n",
            "Data columns (total 17 columns):\n",
            " #   Column              Non-Null Count    Dtype  \n",
            "---  ------              --------------    -----  \n",
            " 0   passenger_count     1429647 non-null  int64  \n",
            " 1   distance            1429647 non-null  float64\n",
            " 2   manhattan_distance  1429647 non-null  float64\n",
            " 3   haversine_distance  1429647 non-null  float64\n",
            " 4   miles_distance      1429647 non-null  float64\n",
            " 5   bearing             1429647 non-null  float64\n",
            " 6   month               1429647 non-null  object \n",
            " 7   day                 1429647 non-null  object \n",
            " 8   weekday             1429647 non-null  int64  \n",
            " 9   pickup_time         1429647 non-null  float64\n",
            " 10  pickup_pca0         1429647 non-null  float64\n",
            " 11  pickup_pca1         1429647 non-null  float64\n",
            " 12  dropoff_pca0        1429647 non-null  float64\n",
            " 13  dropoff_pca1        1429647 non-null  float64\n",
            " 14  pickup_borough      1429647 non-null  int64  \n",
            " 15  dropoff_borough     1429647 non-null  int64  \n",
            " 16  borough_speed       1429647 non-null  float64\n",
            "dtypes: float64(11), int64(4), object(2)\n",
            "memory usage: 196.3+ MB\n"
          ],
          "name": "stdout"
        }
      ]
    },
    {
      "cell_type": "code",
      "metadata": {
        "id": "My1qGykUxrDG"
      },
      "source": [
        "# 备份\n",
        "train_backup = X_train.copy()\n",
        "duation_backup = y.copy()\n",
        "test_backup = X_test.copy()\n",
        "\n",
        "# 在谷歌网盘上保存数据\n",
        "X_train.to_csv('train_data.csv',index=False)\n",
        "y.to_csv('train_duation_data.csv',index=False)\n",
        "X_test.to_csv('test_data.csv',index=False)\n",
        "\n",
        "# # 下载数据\n",
        "# from google.colab import files\n",
        "# files.download('train_data.csv')\n",
        "# files.download('train_duation_data.csv')\n",
        "# files.download('test_data.csv')"
      ],
      "execution_count": null,
      "outputs": []
    },
    {
      "cell_type": "code",
      "metadata": {
        "id": "3s_zWIC4N_3T"
      },
      "source": [
        "X_train = train_backup\n",
        "y = duation_backup\n",
        "X_test = test_backup"
      ],
      "execution_count": null,
      "outputs": []
    },
    {
      "cell_type": "code",
      "metadata": {
        "id": "jND8ZXpSJ_TL"
      },
      "source": [
        "# 标准化\n",
        "from sklearn.preprocessing import StandardScaler\n",
        "scaler = StandardScaler()\n",
        "scaler.fit(X_train)\n",
        "scaler.fit(X_test)\n",
        "X_train_scaled = scaler.fit_transform(X_train)\n",
        "X_test_scaled = scaler.fit_transform(X_test)\n",
        "\n",
        "# 线性归一化\n",
        "from sklearn import preprocessing \n",
        "min_max_scaler = preprocessing.MinMaxScaler() \n",
        "X_train_scaled_linear = min_max_scaler.fit_transform(X_train)  \n",
        "X_test_scaled_linear = min_max_scaler.fit_transform(X_test)"
      ],
      "execution_count": null,
      "outputs": []
    },
    {
      "cell_type": "code",
      "metadata": {
        "id": "KEREVEx7K6uH",
        "colab": {
          "base_uri": "https://localhost:8080/",
          "height": 154
        },
        "outputId": "a065cc4e-128c-4950-ab1b-46c2db74570e"
      },
      "source": [
        "'''\n",
        "y 是训练集的 trip_duration\n",
        "X_train 是没有标准化的训练集\n",
        "X_test 是没有标准化的测试集\n",
        "\n",
        "X_train_scaled 是标准化之后的训练集\n",
        "X_test_scaled 是标准化之后的测试集\n",
        "\n",
        "X_train_scaled_linear 是线性归一化后的训练集\n",
        "X_test_scaled_linear 是线性归一化后的测试集\n",
        "\n",
        "目前有特征：\n",
        " #   Column              Non-Null Count    Dtype  \n",
        "---  ------              --------------    -----  \n",
        " 0   passenger_count     1444061 non-null  int64     乘客数量  \n",
        " 1   distance            1444061 non-null  float64   欧式距离\n",
        " 2   manhattan_distance  1444061 non-null  float64   曼哈顿距离\n",
        " 3   haversine_distance  1444061 non-null  float64   Haversine距离\n",
        " 4   miles_distance      1444061 non-null  float64   考虑球面弧度后的距离\n",
        " 5   bearing             1444061 non-null  float64   航向角\n",
        " 6   month               1444061 non-null  object    月份\n",
        " 7   day                 1444061 non-null  object    日期 \n",
        " 8   weekday             1444061 non-null  int64     星期（星期一=0  ...  星期日=6 )  \n",
        " 9   pickup_time         1444061 non-null  float64   上车时间\n",
        " 10  pickup_pca0         1444061 non-null  float64   经过PCA 2D-2D之后的上车纬度\n",
        " 11  pickup_pca1         1444061 non-null  float64   经过PCA 2D-2D之后的上车经度\n",
        " 12  dropoff_pca0        1444061 non-null  float64   经过PCA 2D-2D之后的下车纬度\n",
        " 13  dropoff_pca1        1444061 non-null  float64   经过PCA 2D-2D之后的下车经度\n",
        " 14  pickup_borough      1444061 non-null  int64     上车区域  \n",
        " 15  dropoff_borough     1444061 non-null  int64     下车区域  \n",
        " 16  borough_speed       1444061 non-null  float64   区域速度\n",
        "dtypes: float64(11), int64(4), object(2)\n",
        "\n",
        "\n",
        " 如果觉得特征数据不够，可以说选择加入log等函数，生成新的数据？\n",
        " 或者是根据passenger_count的数值，分类0人/1人/2人/2人以上，生成布尔特征\n",
        " 也可以将日期分类成工作日和休息日，或者进一步细化出节假日等布尔\n",
        "\n",
        "'''"
      ],
      "execution_count": null,
      "outputs": [
        {
          "output_type": "execute_result",
          "data": {
            "application/vnd.google.colaboratory.intrinsic+json": {
              "type": "string"
            },
            "text/plain": [
              "'\\ny 是训练集的 trip_duration\\nX_train 是没有标准化的训练集\\nX_test 是没有标准化的测试集\\n\\nX_train_scaled 是标准化之后的训练集\\nX_test_scaled 是标准化之后的测试集\\n\\nX_train_scaled_linear 是线性归一化后的训练集\\nX_test_scaled_linear 是线性归一化后的测试集\\n\\n目前有特征：\\n #   Column              Non-Null Count    Dtype  \\n---  ------              --------------    -----  \\n 0   passenger_count     1444061 non-null  int64     乘客数量  \\n 1   distance            1444061 non-null  float64   欧式距离\\n 2   manhattan_distance  1444061 non-null  float64   曼哈顿距离\\n 3   haversine_distance  1444061 non-null  float64   Haversine距离\\n 4   miles_distance      1444061 non-null  float64   考虑球面弧度后的距离\\n 5   bearing             1444061 non-null  float64   航向角\\n 6   month               1444061 non-null  object    月份\\n 7   day                 1444061 non-null  object    日期 \\n 8   weekday             1444061 non-null  int64     星期（星期一=0  ...  星期日=6 )  \\n 9   pickup_time         1444061 non-null  float64   上车时间\\n 10  pickup_pca0         1444061 non-null  float64   经过PCA 2D-2D之后的上车纬度\\n 11  pickup_pca1         1444061 non-null  float64   经过PCA 2D-2D之后的上车经度\\n 12  dropoff_pca0        1444061 non-null  float64   经过PCA 2D-2D之后的下车纬度\\n 13  dropoff_pca1        1444061 non-null  float64   经过PCA 2D-2D之后的下车经度\\n 14  pickup_borough      1444061 non-null  int64     上车区域  \\n 15  dropoff_borough     1444061 non-null  int64     下车区域  \\n 16  borough_speed       1444061 non-null  float64   区域速度\\ndtypes: float64(11), int64(4), object(2)\\n\\n\\n 如果觉得特征数据不够，可以说选择加入log等函数，生成新的数据？\\n 或者是根据passenger_count的数值，分类0人/1人/2人/2人以上，生成布尔特征\\n 也可以将日期分类成工作日和休息日，或者进一步细化出节假日等布尔\\n\\n'"
            ]
          },
          "metadata": {
            "tags": []
          },
          "execution_count": 23
        }
      ]
    },
    {
      "cell_type": "code",
      "metadata": {
        "id": "7u8tMIcAJoCi",
        "colab": {
          "base_uri": "https://localhost:8080/"
        },
        "outputId": "78765b5b-66dc-4aa9-9454-883b12307697"
      },
      "source": [
        "import pandas as pd\n",
        "import numpy as np\n",
        "from pandas import DataFrame\n",
        "linear_orig = X_train.copy()\n",
        "print(linear_orig.cov())#计算协方差矩阵，观察多重共线性\n",
        "\n",
        "linear_scaler = pd.DataFrame(X_train_scaled)\n",
        "linear_scaler.columns = ['passenger_count','distance','manhattan_distance','haversine_distance','miles_distance','bearing','month','day','weekday','pickup_time','pickup_pca0','pickup_pca1','dropoff_pca0','dropoff_pca1','pickup_borough','dropoff_borough','borough_speed']\n",
        "\n",
        "\n",
        "linear_MinMaxScaler = pd.DataFrame(X_train_scaled_linear)\n",
        "linear_MinMaxScaler.columns = ['passenger_count','distance','manhattan_distance','haversine_distance','miles_distance','bearing','month','day','weekday','pickup_time','pickup_pca0','pickup_pca1','dropoff_pca0','dropoff_pca1','pickup_borough','dropoff_borough','borough_speed']\n",
        "#linear_MinMaxScaler['duration'] = y\n",
        "\n",
        "#将所有训练集划分\n",
        "from sklearn.model_selection import train_test_split\n",
        "from sklearn import model_selection\n",
        "X_train_orig,X_test_orig,Y_train_orig,Y_test_orig = model_selection.train_test_split(linear_orig,y,test_size=0.35,random_state=1)\n",
        "X_train_scaler,X_test_scaler,Y_train_scaler,Y_test_scaler = model_selection.train_test_split(linear_scaler,y,test_size=0.35,random_state=1)\n",
        "X_train_MinMaxScaler,X_test_MinMaxScaler,Y_train_MinMaxScaler,Y_test_MinMaxScaler = model_selection.train_test_split(linear_MinMaxScaler,y,test_size=0.35,random_state=1)\n",
        "\n"
      ],
      "execution_count": null,
      "outputs": [
        {
          "output_type": "stream",
          "text": [
            "                    passenger_count  ...  borough_speed\n",
            "passenger_count            1.724525  ...       0.001970\n",
            "distance                   0.370488  ...      31.598762\n",
            "manhattan_distance         0.000470  ...       0.039669\n",
            "haversine_distance         0.035010  ...       2.794176\n",
            "miles_distance             0.021770  ...       1.739219\n",
            "bearing                   -0.101108  ...      30.267210\n",
            "weekday                    0.065354  ...       0.032155\n",
            "pickup_time                0.077218  ...      -0.778604\n",
            "pickup_pca0               -0.000023  ...      -0.012585\n",
            "pickup_pca1               -0.000106  ...      -0.004450\n",
            "dropoff_pca0               0.000093  ...      -0.040840\n",
            "dropoff_pca1              -0.000053  ...      -0.006650\n",
            "pickup_borough             0.000338  ...       0.144513\n",
            "dropoff_borough           -0.000906  ...       0.393610\n",
            "borough_speed              0.001970  ...       3.802364\n",
            "\n",
            "[15 rows x 15 columns]\n"
          ],
          "name": "stdout"
        }
      ]
    },
    {
      "cell_type": "code",
      "metadata": {
        "id": "amtwNWckm8nw"
      },
      "source": [
        "from sklearn.metrics import mean_squared_error \n",
        "from sklearn.linear_model import LinearRegression\n",
        "\n",
        "Linreg = LinearRegression()\n",
        "Linreg.fit(X_train_orig,Y_train_orig)\n",
        "Y_pred_orig=Linreg.predict(X_test_orig)\n",
        "MSE=mean_squared_error(Y_pred_orig,Y_test_orig)\n",
        "predict_score=Linreg.score(X_test_orig,Y_test_orig)#模型解释度\n"
      ],
      "execution_count": null,
      "outputs": []
    },
    {
      "cell_type": "code",
      "metadata": {
        "id": "-NMIPrwMm-og"
      },
      "source": [
        "from sklearn.metrics import mean_squared_error \n",
        "from sklearn.linear_model import LinearRegression\n",
        "\n",
        "Linreg = LinearRegression()\n",
        "Linreg.fit(X_train_scaler,Y_train_scaler)\n",
        "\n",
        "# summary(Linreg)\n",
        "# Linreg.summary\n",
        "Y_pred_scaler=Linreg.predict(X_test_scaler)\n",
        "MSE=mean_squared_error(Y_pred_scaler,Y_test_scaler)\n",
        "predict_score=Linreg.score(X_test_scaler,Y_test_scaler)#模型解释度\n",
        "#标准化后的系数绝对值大小，代表了这个变量的重要性\n",
        "\n",
        "# print(Linreg.coef)\n",
        "# print(Linreg.intercept_)"
      ],
      "execution_count": null,
      "outputs": []
    },
    {
      "cell_type": "code",
      "metadata": {
        "id": "1OQZ_Hwmm-Rb"
      },
      "source": [
        "from sklearn.metrics import mean_squared_error \n",
        "from sklearn.linear_model import LinearRegression\n",
        "\n",
        "Linreg = LinearRegression()\n",
        "Linreg.fit(X_train_MinMaxScaler,Y_train_MinMaxScaler)\n",
        "Y_pred_MinMaxScaler=Linreg.predict(X_test_MinMaxScaler)\n",
        "MSE=mean_squared_error(Y_pred_MinMaxScaler,Y_test_MinMaxScaler)\n",
        "predict_score=Linreg.score(X_test_MinMaxScaler,Y_test_MinMaxScaler)#模型解释度\n",
        "#到此步为止，在17个指标的基础上建立线性回归\n",
        "#接下来可以不断删去一些变量，来测试寻找较小的MSE，同时保持较高的解释度\n",
        "#不过不论怎么调变量，测试集上的MSE都很大很大,模型解释度也很低\n",
        "#不过通常，只采用一种距离，所以可以修改数据集，多次实验找出最合适的距离，还可以对比一下是否需要距离、时间变量"
      ],
      "execution_count": null,
      "outputs": []
    },
    {
      "cell_type": "code",
      "metadata": {
        "id": "oV1NReo80AWR",
        "colab": {
          "base_uri": "https://localhost:8080/"
        },
        "outputId": "3543fd85-8362-4399-da09-fc8dd1bde23c"
      },
      "source": [
        "MSE"
      ],
      "execution_count": null,
      "outputs": [
        {
          "output_type": "execute_result",
          "data": {
            "text/plain": [
              "138736.4951539506"
            ]
          },
          "metadata": {
            "tags": []
          },
          "execution_count": 28
        }
      ]
    },
    {
      "cell_type": "code",
      "metadata": {
        "id": "wDoo-kjbKBst"
      },
      "source": [
        ""
      ],
      "execution_count": null,
      "outputs": []
    }
  ]
}